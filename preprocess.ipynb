{
 "cells": [
  {
   "cell_type": "code",
   "execution_count": 7,
   "outputs": [],
   "source": [
    "import pickle\n",
    "inverted_index = pickle.load(open('inverted_index.sav', 'rb'))\n"
   ],
   "metadata": {
    "collapsed": false,
    "pycharm": {
     "name": "#%%\n"
    }
   }
  },
  {
   "cell_type": "code",
   "execution_count": 9,
   "outputs": [
    {
     "name": "stdout",
     "output_type": "stream",
     "text": [
      "Collecting scipy\n",
      "  Using cached scipy-1.8.0-cp39-cp39-win_amd64.whl (36.9 MB)\n",
      "Requirement already satisfied: numpy<1.25.0,>=1.17.3 in d:\\pythonproject\\venv\\lib\\site-packages (from scipy) (1.22.2)\n",
      "Installing collected packages: scipy\n",
      "Successfully installed scipy-1.8.0\n"
     ]
    },
    {
     "name": "stderr",
     "output_type": "stream",
     "text": [
      "WARNING: You are using pip version 21.1.2; however, version 22.0.3 is available.\n",
      "You should consider upgrading via the 'D:\\pythonProject\\venv\\Scripts\\python.exe -m pip install --upgrade pip' command.\n"
     ]
    }
   ],
   "source": [
    "!pip install scipy"
   ],
   "metadata": {
    "collapsed": false,
    "pycharm": {
     "name": "#%%\n"
    }
   }
  },
  {
   "cell_type": "code",
   "execution_count": 12,
   "outputs": [
    {
     "name": "stderr",
     "output_type": "stream",
     "text": [
      "C:\\Users\\pc\\AppData\\Local\\Temp\\ipykernel_21660\\302993147.py:1: DeprecationWarning: Please use `csr_matrix` from the `scipy.sparse` namespace, the `scipy.sparse.csr` namespace is deprecated.\n",
      "  df = pickle.load(open('dataset.sav','rb'))\n"
     ]
    }
   ],
   "source": [
    "df = pickle.load(open('dataset.sav','rb'))\n"
   ],
   "metadata": {
    "collapsed": false,
    "pycharm": {
     "name": "#%%\n"
    }
   }
  },
  {
   "cell_type": "code",
   "execution_count": 13,
   "outputs": [
    {
     "data": {
      "text/plain": "                                               Title  \\\n0                  What does the \"yield\" keyword do?   \n1                     What is a metaclass in Python?   \n2  How do I check whether a file exists using Pyt...   \n3   Does Python have a ternary conditional operator?   \n4              Calling an external command in Python   \n\n                                                Body  \\\n0  What is the use of the yield keyword in Python...   \n1  What are metaclasses? What do you use them for?\\n   \n2  How do I check whether a file exists, without ...   \n3  If Python does not have a ternary conditional ...   \n4  How can I call an external command (as if I'd ...   \n\n                      Cleaned_Title_top_words_vector  \\\n0    (0, 5238)\\t0.7329578955399421\\n  (0, 2384)\\t...   \n1    (0, 3588)\\t0.18906840293995536\\n  (0, 2693)\\...   \n2    (0, 5101)\\t0.5401581108755895\\n  (0, 4940)\\t...   \n3    (0, 4609)\\t0.6710068830373045\\n  (0, 3588)\\t...   \n4    (0, 3588)\\t0.1561525451231552\\n  (0, 1519)\\t...   \n\n                       Cleaned_Body_top_words_vector  \n0    (0, 20328)\\t0.14092749261815307\\n  (0, 19534...  \n1    (0, 24700)\\t0.21022919718961375\\n  (0, 13685...  \n2    (0, 25663)\\t0.3260735470085486\\n  (0, 25475)...  \n3    (0, 24700)\\t0.09947183982578302\\n  (0, 22969...  \n4    (0, 25784)\\t0.1552172490487847\\n  (0, 25660)...  ",
      "text/html": "<div>\n<style scoped>\n    .dataframe tbody tr th:only-of-type {\n        vertical-align: middle;\n    }\n\n    .dataframe tbody tr th {\n        vertical-align: top;\n    }\n\n    .dataframe thead th {\n        text-align: right;\n    }\n</style>\n<table border=\"1\" class=\"dataframe\">\n  <thead>\n    <tr style=\"text-align: right;\">\n      <th></th>\n      <th>Title</th>\n      <th>Body</th>\n      <th>Cleaned_Title_top_words_vector</th>\n      <th>Cleaned_Body_top_words_vector</th>\n    </tr>\n  </thead>\n  <tbody>\n    <tr>\n      <th>0</th>\n      <td>What does the \"yield\" keyword do?</td>\n      <td>What is the use of the yield keyword in Python...</td>\n      <td>(0, 5238)\\t0.7329578955399421\\n  (0, 2384)\\t...</td>\n      <td>(0, 20328)\\t0.14092749261815307\\n  (0, 19534...</td>\n    </tr>\n    <tr>\n      <th>1</th>\n      <td>What is a metaclass in Python?</td>\n      <td>What are metaclasses? What do you use them for?\\n</td>\n      <td>(0, 3588)\\t0.18906840293995536\\n  (0, 2693)\\...</td>\n      <td>(0, 24700)\\t0.21022919718961375\\n  (0, 13685...</td>\n    </tr>\n    <tr>\n      <th>2</th>\n      <td>How do I check whether a file exists using Pyt...</td>\n      <td>How do I check whether a file exists, without ...</td>\n      <td>(0, 5101)\\t0.5401581108755895\\n  (0, 4940)\\t...</td>\n      <td>(0, 25663)\\t0.3260735470085486\\n  (0, 25475)...</td>\n    </tr>\n    <tr>\n      <th>3</th>\n      <td>Does Python have a ternary conditional operator?</td>\n      <td>If Python does not have a ternary conditional ...</td>\n      <td>(0, 4609)\\t0.6710068830373045\\n  (0, 3588)\\t...</td>\n      <td>(0, 24700)\\t0.09947183982578302\\n  (0, 22969...</td>\n    </tr>\n    <tr>\n      <th>4</th>\n      <td>Calling an external command in Python</td>\n      <td>How can I call an external command (as if I'd ...</td>\n      <td>(0, 3588)\\t0.1561525451231552\\n  (0, 1519)\\t...</td>\n      <td>(0, 25784)\\t0.1552172490487847\\n  (0, 25660)...</td>\n    </tr>\n  </tbody>\n</table>\n</div>"
     },
     "execution_count": 13,
     "metadata": {},
     "output_type": "execute_result"
    }
   ],
   "source": [
    "df.head()"
   ],
   "metadata": {
    "collapsed": false,
    "pycharm": {
     "name": "#%%\n"
    }
   }
  },
  {
   "cell_type": "code",
   "execution_count": 18,
   "outputs": [
    {
     "name": "stderr",
     "output_type": "stream",
     "text": [
      "C:\\Users\\pc\\AppData\\Local\\Temp\\ipykernel_21660\\2087861513.py:1: DeprecationWarning: Please use `csr_matrix` from the `scipy.sparse` namespace, the `scipy.sparse.csr` namespace is deprecated.\n",
      "  tf_idf_body_vectorizer = pickle.load(open('tf_idf_body_vectorizer.sav','rb'))\n"
     ]
    }
   ],
   "source": [
    "tf_idf_body_vectorizer = pickle.load(open('tf_idf_body_vectorizer.sav','rb'))"
   ],
   "metadata": {
    "collapsed": false,
    "pycharm": {
     "name": "#%%\n"
    }
   }
  },
  {
   "cell_type": "code",
   "execution_count": null,
   "outputs": [],
   "source": [],
   "metadata": {
    "collapsed": false,
    "pycharm": {
     "name": "#%%\n"
    }
   }
  }
 ],
 "metadata": {
  "kernelspec": {
   "display_name": "Python 3",
   "language": "python",
   "name": "python3"
  },
  "language_info": {
   "codemirror_mode": {
    "name": "ipython",
    "version": 2
   },
   "file_extension": ".py",
   "mimetype": "text/x-python",
   "name": "python",
   "nbconvert_exporter": "python",
   "pygments_lexer": "ipython2",
   "version": "2.7.6"
  }
 },
 "nbformat": 4,
 "nbformat_minor": 0
}